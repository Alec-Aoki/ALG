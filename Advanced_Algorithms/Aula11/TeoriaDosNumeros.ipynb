{
 "cells": [
  {
   "cell_type": "code",
   "execution_count": 128,
   "id": "20848061",
   "metadata": {},
   "outputs": [],
   "source": [
    "import math\n",
    "from collections import deque"
   ]
  },
  {
   "cell_type": "markdown",
   "id": "d56a8eb5",
   "metadata": {},
   "source": [
    "# Teoria dos Números\n",
    "## Números Primos\n",
    "- Métodos para encontrar primos\n",
    "  - *Crivo de Erastótenes*"
   ]
  },
  {
   "cell_type": "code",
   "execution_count": 129,
   "id": "78979f97",
   "metadata": {},
   "outputs": [],
   "source": [
    "def eh_primo(x):\n",
    "    for b in range(2, x):\n",
    "        if x % b == 0:\n",
    "            return False\n",
    "    return True\n",
    "\n",
    "def eh_primo_otim1(x):\n",
    "    for b in range(2, int(math.sqrt(x))):\n",
    "        if x % b == 0:\n",
    "            return False\n",
    "    return True\n",
    "\n",
    "def eh_primo_otim2(x):\n",
    "    if x % 2 == 0:\n",
    "        return False\n",
    "\n",
    "    for b in range(3, int(math.sqrt(x)), 2):\n",
    "        if x % b == 0:\n",
    "            return False\n",
    "    return True"
   ]
  },
  {
   "cell_type": "markdown",
   "id": "c73e29c7",
   "metadata": {},
   "source": [
    "**Crivo de Erastóteles**\n",
    "\n",
    "Imagine uma lista de números inteiros. Iniciando com 2, removemos todos os seus múltiplos. O que sobra são os números primos até 2. Repetimos esse processo para todos os números na lista."
   ]
  },
  {
   "cell_type": "code",
   "execution_count": 130,
   "id": "5c3e15bc",
   "metadata": {},
   "outputs": [],
   "source": [
    "def crivo(n):\n",
    "    d = deque(range(2, n))\n",
    "\n",
    "    i = 0\n",
    "    counter = 0\n",
    "    while counter < n and i < len(d):\n",
    "        x = d[i]\n",
    "        counter = x\n",
    "        for y in range(x + x, n, x): # Pulando de x em x\n",
    "            if y in d:\n",
    "                d.remove(y)\n",
    "        i += 1\n",
    "    \n",
    "    return d"
   ]
  },
  {
   "cell_type": "code",
   "execution_count": 131,
   "id": "46723d6d",
   "metadata": {},
   "outputs": [
    {
     "data": {
      "text/plain": [
       "669"
      ]
     },
     "execution_count": 131,
     "metadata": {},
     "output_type": "execute_result"
    }
   ],
   "source": [
    "len(crivo(5000))"
   ]
  },
  {
   "cell_type": "code",
   "execution_count": 132,
   "id": "aa58229a",
   "metadata": {},
   "outputs": [],
   "source": [
    "def eh_primo2(x, n=5000):\n",
    "    if x % 2 == 0:\n",
    "        return False\n",
    "    \n",
    "    primos_conhecidos = crivo(n)\n",
    "\n",
    "    for p in primos_conhecidos:\n",
    "        if x % p == 0:\n",
    "            return False\n",
    "\n",
    "    for b in range(n, int(math.sqrt(x)), 2):\n",
    "        if x % b == 0:\n",
    "            return False\n",
    "    return True"
   ]
  },
  {
   "cell_type": "code",
   "execution_count": 133,
   "id": "0254a0f3",
   "metadata": {},
   "outputs": [
    {
     "data": {
      "text/plain": [
       "False"
      ]
     },
     "execution_count": 133,
     "metadata": {},
     "output_type": "execute_result"
    }
   ],
   "source": [
    "eh_primo2(2**61 - 2)"
   ]
  },
  {
   "cell_type": "markdown",
   "id": "567edadd",
   "metadata": {},
   "source": [
    "**Decomposição de um número em seus primos**\n",
    "\n",
    "$60 = 2^2 \\times 3 \\times 5 = \\{ 2, 1, 1, 0, ..., 0 \\}$"
   ]
  },
  {
   "cell_type": "code",
   "execution_count": 134,
   "id": "d5bc6bdf",
   "metadata": {},
   "outputs": [],
   "source": [
    "def fatores_primos(x):\n",
    "\n",
    "    primos_conhecidos = crivo(x)\n",
    "\n",
    "    fatores = [0] * len(primos_conhecidos)\n",
    "\n",
    "    for idx, p in enumerate(primos_conhecidos):\n",
    "        if x == 1:\n",
    "            break\n",
    "        \n",
    "        while x % p == 0:\n",
    "            fatores[idx]  += 1\n",
    "            x = x / p\n",
    "\n",
    "    return fatores"
   ]
  },
  {
   "cell_type": "code",
   "execution_count": 135,
   "id": "f09dbc9d",
   "metadata": {},
   "outputs": [
    {
     "data": {
      "text/plain": [
       "[2, 1, 1, 0, 0, 0, 0, 0, 0, 0, 0, 0, 0, 0, 0, 0, 0]"
      ]
     },
     "execution_count": 135,
     "metadata": {},
     "output_type": "execute_result"
    }
   ],
   "source": [
    "fatores_primos(60)"
   ]
  },
  {
   "cell_type": "code",
   "execution_count": 136,
   "id": "628e81a5",
   "metadata": {},
   "outputs": [],
   "source": [
    "def mega_mul(a, b):\n",
    "    fatores_a = fatores_primos(a)\n",
    "    fatores_b = fatores_primos(b)\n",
    "\n",
    "    if len(fatores_a) == 0:\n",
    "        fatores_a = [0] * (a + 1)\n",
    "        fatores_a[a] = 1\n",
    "\n",
    "    if len(fatores_b) == 0:\n",
    "        fatores_b = [0] * (b + 1)\n",
    "        fatores_b[b] = 1\n",
    "\n",
    "    tam = max(len(fatores_a), len(fatores_b))\n",
    "    fatores_ab = [0] * tam\n",
    "    for i in range(tam):\n",
    "        if i >= len(fatores_a):\n",
    "            fatores_ab[i] = fatores_b[i]\n",
    "        elif i >= len(fatores_b):\n",
    "            fatores_ab[i] = fatores_a[i]\n",
    "        else:\n",
    "            fatores_ab[i] = fatores_a[i] + fatores_b[i]\n",
    "\n",
    "    return fatores_ab"
   ]
  },
  {
   "cell_type": "code",
   "execution_count": 137,
   "id": "8bfb3fee",
   "metadata": {},
   "outputs": [
    {
     "data": {
      "text/plain": [
       "[2, 1, 2, 0, 0, 0, 0, 0, 0, 0, 0, 0, 0, 0, 0, 0, 0]"
      ]
     },
     "execution_count": 137,
     "metadata": {},
     "output_type": "execute_result"
    }
   ],
   "source": [
    "mega_mul(2, 60)"
   ]
  },
  {
   "cell_type": "code",
   "execution_count": 138,
   "id": "3ef324d6",
   "metadata": {},
   "outputs": [],
   "source": [
    "def fatores_2_num(fatores, n=2000):\n",
    "    primos_conhecidos = crivo(n)\n",
    "    x = 1\n",
    "    for idx, f in enumerate(fatores):\n",
    "        x *= primos_conhecidos[idx]**f\n",
    "\n",
    "    return x"
   ]
  },
  {
   "cell_type": "code",
   "execution_count": 139,
   "id": "4d9acdcd",
   "metadata": {},
   "outputs": [
    {
     "data": {
      "text/plain": [
       "100"
      ]
     },
     "execution_count": 139,
     "metadata": {},
     "output_type": "execute_result"
    }
   ],
   "source": [
    "fatores_2_num(mega_mul(100, 5))"
   ]
  },
  {
   "cell_type": "code",
   "execution_count": 140,
   "id": "605da20a",
   "metadata": {},
   "outputs": [],
   "source": [
    "def mdc(a, b):\n",
    "    return a if b == 0 else mdc(b, a % b)"
   ]
  },
  {
   "cell_type": "code",
   "execution_count": 141,
   "id": "d1554299",
   "metadata": {},
   "outputs": [
    {
     "data": {
      "text/plain": [
       "5"
      ]
     },
     "execution_count": 141,
     "metadata": {},
     "output_type": "execute_result"
    }
   ],
   "source": [
    "mdc(10, 5)"
   ]
  },
  {
   "cell_type": "code",
   "execution_count": 142,
   "id": "e0297f95",
   "metadata": {},
   "outputs": [],
   "source": [
    "def lcm(a, b):\n",
    "    return a / mdc(a, b) * b"
   ]
  },
  {
   "cell_type": "code",
   "execution_count": 144,
   "id": "b2701bca",
   "metadata": {},
   "outputs": [
    {
     "data": {
      "text/plain": [
       "288.0"
      ]
     },
     "execution_count": 144,
     "metadata": {},
     "output_type": "execute_result"
    }
   ],
   "source": [
    "lcm(72, 32)"
   ]
  }
 ],
 "metadata": {
  "kernelspec": {
   "display_name": "Python 3",
   "language": "python",
   "name": "python3"
  },
  "language_info": {
   "codemirror_mode": {
    "name": "ipython",
    "version": 3
   },
   "file_extension": ".py",
   "mimetype": "text/x-python",
   "name": "python",
   "nbconvert_exporter": "python",
   "pygments_lexer": "ipython3",
   "version": "3.10.12"
  }
 },
 "nbformat": 4,
 "nbformat_minor": 5
}
